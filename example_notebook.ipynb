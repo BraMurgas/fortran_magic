{
 "metadata": {
  "name": ""
 },
 "nbformat": 3,
 "nbformat_minor": 0,
 "worksheets": [
  {
   "cells": [
    {
     "cell_type": "markdown",
     "metadata": {},
     "source": [
      "Fortran magic\n",
      "=============\n",
      "\n",
      "Compile and import everything from a Fortran code cell, using f2py.\n",
      "\n",
      "The contents of the cell are written to a `.f90` file in the\n",
      "directory `IPYTHONDIR/fortran` using a filename with the hash of the\n",
      "code. This file is then compiled. The resulting module\n",
      "is imported and all of its symbols are injected into the user's\n",
      "namespace.\n",
      "\n",
      "\n",
      "* Author: Mart\u00edn Gait\u00e1n <gaitan@gmail.com> \n",
      "* Homepage: https://github.com/mgaitan/fortran_magic \n"
     ]
    },
    {
     "cell_type": "code",
     "collapsed": false,
     "input": [
      "%install_ext https://raw.github.com/mgaitan/fortran_magic/master/fortranmagic.py"
     ],
     "language": "python",
     "metadata": {},
     "outputs": [
      {
       "output_type": "stream",
       "stream": "stdout",
       "text": [
        "Installed fortranmagic.py. To use it, type:\n",
        "  %load_ext fortranmagic\n"
       ]
      }
     ],
     "prompt_number": 1
    },
    {
     "cell_type": "code",
     "collapsed": false,
     "input": [
      "%load_ext fortranmagic"
     ],
     "language": "python",
     "metadata": {},
     "outputs": [],
     "prompt_number": 2
    },
    {
     "cell_type": "code",
     "collapsed": false,
     "input": [
      "%%fortran\n",
      "\n",
      "subroutine f1(x, y, z)\n",
      "    real, intent(in) :: x,y\n",
      "    real, intent(out) :: z\n",
      "\n",
      "    z = sin(x+y)\n",
      "\n",
      "end subroutine f1"
     ],
     "language": "python",
     "metadata": {},
     "outputs": [],
     "prompt_number": 3
    },
    {
     "cell_type": "code",
     "collapsed": false,
     "input": [
      "f1(1.0, 2.1415)"
     ],
     "language": "python",
     "metadata": {},
     "outputs": [
      {
       "metadata": {},
       "output_type": "pyout",
       "prompt_number": 4,
       "text": [
        "9.26574066397734e-05"
       ]
      }
     ],
     "prompt_number": 4
    },
    {
     "cell_type": "code",
     "collapsed": false,
     "input": [
      "print f1.__doc__"
     ],
     "language": "python",
     "metadata": {},
     "outputs": [
      {
       "output_type": "stream",
       "stream": "stdout",
       "text": [
        "f1 - Function signature:\n",
        "  z = f1(x,y)\n",
        "Required arguments:\n",
        "  x : input float\n",
        "  y : input float\n",
        "Return objects:\n",
        "  z : float\n",
        "\n"
       ]
      }
     ],
     "prompt_number": 5
    },
    {
     "cell_type": "code",
     "collapsed": false,
     "input": [],
     "language": "python",
     "metadata": {},
     "outputs": [],
     "prompt_number": 5
    }
   ],
   "metadata": {}
  }
 ]
}